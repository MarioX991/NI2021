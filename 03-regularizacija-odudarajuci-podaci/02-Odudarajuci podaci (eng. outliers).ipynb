{
 "cells": [
  {
   "cell_type": "markdown",
   "metadata": {},
   "source": [
    "Prisustvo odudarajućih podataka vrlo utiče na formu rešenja modela linearne regresije. Sledeći primer to ilustruje i ukazuje na neke tehnike detekcije i eliminacije odudarajućih podataka."
   ]
  },
  {
   "cell_type": "code",
   "execution_count": 2,
   "metadata": {},
   "outputs": [],
   "source": [
    "import numpy as np\n",
    "import pandas as pd\n",
    "from matplotlib import pyplot as plt"
   ]
  },
  {
   "cell_type": "code",
   "execution_count": 3,
   "metadata": {},
   "outputs": [],
   "source": [
    "from sklearn import linear_model\n",
    "from sklearn import metrics"
   ]
  },
  {
   "cell_type": "code",
   "execution_count": 4,
   "metadata": {},
   "outputs": [],
   "source": [
    "np.random.seed(7)"
   ]
  },
  {
   "cell_type": "code",
   "execution_count": null,
   "metadata": {},
   "outputs": [],
   "source": []
  },
  {
   "cell_type": "markdown",
   "metadata": {},
   "source": [
    "Skup podataka koji ćemo generisati imaće ukupno 49 instanci. Veza između nezavisne i zavisne promenljive će biti oblika $y=3+2x$ uz dodatak šuma iz normalne raspodele. "
   ]
  },
  {
   "cell_type": "code",
   "execution_count": 5,
   "metadata": {},
   "outputs": [],
   "source": [
    "N = 49\n",
    "x = np.random.randn(N)\n",
    "y = 3 + 2*x + np.random.randn(N)"
   ]
  },
  {
   "cell_type": "code",
   "execution_count": 23,
   "metadata": {},
   "outputs": [
    {
     "data": {
      "image/png": "[encoded data removed]",
      "text/plain": [
       "<Figure size 432x288 with 1 Axes>"
      ]
     },
     "metadata": {
      "needs_background": "light"
     },
     "output_type": "display_data"
    },
    {
     "data": {
      "text/plain": [
       "array([[ 1.69052570e+00,  5.85644679e+00],\n",
       "       [-4.65937371e-01,  3.98014412e+00],\n",
       "       [ 3.28201637e-02,  3.30294217e+00],\n",
       "       [ 4.07516283e-01,  3.91646655e+00],\n",
       "       [-7.88923029e-01,  1.67473168e+00],\n",
       "       [ 2.06557291e-03,  2.87175395e+00],\n",
       "       [-8.90385858e-04,  2.68874289e+00],\n",
       "       [-1.75472431e+00, -1.94441208e+00],\n",
       "       [ 1.01765801e+00,  5.53694013e+00],\n",
       "       [ 6.00498516e-01,  4.10622158e+00],\n",
       "       [-6.25428974e-01,  2.94222797e+00],\n",
       "       [-1.71548261e-01,  2.28808501e+00],\n",
       "       [ 5.05299374e-01,  2.10422887e+00],\n",
       "       [-2.61356415e-01,  2.37767654e+00],\n",
       "       [-2.42749079e-01,  4.21403914e+00],\n",
       "       [-1.45324141e+00, -2.89905948e-01],\n",
       "       [ 5.54580312e-01,  3.21930376e+00],\n",
       "       [ 1.23880905e-01,  2.05416989e+00],\n",
       "       [ 2.74459924e-01,  2.49890304e+00],\n",
       "       [-1.52652453e+00, -3.53242801e-01],\n",
       "       [ 1.65069969e+00,  5.12141729e+00],\n",
       "       [ 1.54335535e-01,  4.80631019e+00],\n",
       "       [-3.87139943e-01,  1.94308488e+00],\n",
       "       [ 2.02907222e+00,  7.16679281e+00],\n",
       "       [-4.53860299e-02,  4.34746746e+00],\n",
       "       [-1.45067870e+00,  1.60196112e+00],\n",
       "       [-4.05227855e-01,  1.97681132e+00],\n",
       "       [-2.28831510e+00, -1.24465599e+00],\n",
       "       [ 1.04939655e+00,  5.83381968e+00],\n",
       "       [-4.16474319e-01,  1.97419590e+00],\n",
       "       [-7.42553525e-01, -2.63119903e-01],\n",
       "       [ 1.07247013e+00,  5.79964597e+00],\n",
       "       [-1.65107559e+00,  5.92201126e-01],\n",
       "       [ 5.35429356e-01,  4.48636133e+00],\n",
       "       [-2.06441480e+00, -2.05237426e+00],\n",
       "       [-6.62159340e-01,  1.47965401e+00],\n",
       "       [-1.20421985e+00,  7.90489937e-04],\n",
       "       [ 1.46197563e+00,  5.62424002e+00],\n",
       "       [ 1.76616088e+00,  7.82920695e+00],\n",
       "       [-3.29413752e-01,  3.87075213e+00],\n",
       "       [ 8.40733242e-01,  5.35088468e+00],\n",
       "       [-1.79986401e-01,  3.18877232e+00],\n",
       "       [ 5.68061887e-01,  4.81275276e+00],\n",
       "       [-7.52837196e-01,  1.48208342e+00],\n",
       "       [-1.70833920e+00, -4.92341868e-01],\n",
       "       [-1.80309866e+00, -1.27984250e+00],\n",
       "       [ 3.83121852e-01,  3.71037625e+00],\n",
       "       [ 2.24759505e+00,  9.75513709e+00],\n",
       "       [ 2.69411631e-01,  4.40786259e+00]])"
      ]
     },
     "execution_count": 23,
     "metadata": {},
     "output_type": "execute_result"
    }
   ],
   "source": [
    "plt.scatter(x, y)\n",
    "plt.show()\n",
    "data = np.vstack((x,y)).T"
   ]
  },
  {
   "cell_type": "code",
   "execution_count": 26,
   "metadata": {},
   "outputs": [
    {
     "data": {
      "text/html": [
       "<div>\n",
       "<style scoped>\n",
       "    .dataframe tbody tr th:only-of-type {\n",
       "        vertical-align: middle;\n",
       "    }\n",
       "\n",
       "    .dataframe tbody tr th {\n",
       "        vertical-align: top;\n",
       "    }\n",
       "\n",
       "    .dataframe thead th {\n",
       "        text-align: right;\n",
       "    }\n",
       "</style>\n",
       "<table border=\"1\" class=\"dataframe\">\n",
       "  <thead>\n",
       "    <tr style=\"text-align: right;\">\n",
       "      <th></th>\n",
       "      <th>X</th>\n",
       "      <th>Y</th>\n",
       "    </tr>\n",
       "  </thead>\n",
       "  <tbody>\n",
       "    <tr>\n",
       "      <th>0</th>\n",
       "      <td>1.690526</td>\n",
       "      <td>5.856447</td>\n",
       "    </tr>\n",
       "    <tr>\n",
       "      <th>1</th>\n",
       "      <td>-0.465937</td>\n",
       "      <td>3.980144</td>\n",
       "    </tr>\n",
       "    <tr>\n",
       "      <th>2</th>\n",
       "      <td>0.032820</td>\n",
       "      <td>3.302942</td>\n",
       "    </tr>\n",
       "    <tr>\n",
       "      <th>3</th>\n",
       "      <td>0.407516</td>\n",
       "      <td>3.916467</td>\n",
       "    </tr>\n",
       "    <tr>\n",
       "      <th>4</th>\n",
       "      <td>-0.788923</td>\n",
       "      <td>1.674732</td>\n",
       "    </tr>\n",
       "  </tbody>\n",
       "</table>\n",
       "</div>"
      ],
      "text/plain": [
       "          X         Y\n",
       "0  1.690526  5.856447\n",
       "1 -0.465937  3.980144\n",
       "2  0.032820  3.302942\n",
       "3  0.407516  3.916467\n",
       "4 -0.788923  1.674732"
      ]
     },
     "execution_count": 26,
     "metadata": {},
     "output_type": "execute_result"
    }
   ],
   "source": [
    "df = pd.DataFrame(data,columns=[\"X\",\"Y\"])\n",
    "df.head()"
   ]
  },
  {
   "cell_type": "markdown",
   "metadata": {},
   "source": [
    "Dalje ćemo odrediti i grafički prikazati model linearne regresije koji aproksimira ovaj skup tačaka."
   ]
  },
  {
   "cell_type": "code",
   "execution_count": 28,
   "metadata": {},
   "outputs": [],
   "source": [
    "model = linear_model.LinearRegression()\n",
    "model.fit(x.reshape(-1, 1), y.reshape(-1,1))\n",
    "beta0, beta1 = model.intercept_, model.coef_[0]"
   ]
  },
  {
   "cell_type": "code",
   "execution_count": 29,
   "metadata": {},
   "outputs": [
    {
     "data": {
      "image/png": "[encoded data removed]",
      "text/plain": [
       "<Figure size 432x288 with 1 Axes>"
      ]
     },
     "metadata": {
      "needs_background": "light"
     },
     "output_type": "display_data"
    }
   ],
   "source": [
    "plt.scatter(x, y)\n",
    "plt.plot(x, beta0+beta1*x, color = 'orange')\n",
    "plt.show()"
   ]
  },
  {
   "cell_type": "markdown",
   "metadata": {},
   "source": [
    "U naš skup ubacićemo na slučajan način nekoliko odudarajućih podataka. Broj odudarajućih podataka će biti predstavljan parametrom $k$."
   ]
  },
  {
   "cell_type": "code",
   "execution_count": 30,
   "metadata": {},
   "outputs": [],
   "source": [
    "k = 4\n",
    "outlier_indexes = np.random.choice(np.arange(0, N), k) # from the given set(array) pick up k random elements"
   ]
  },
  {
   "cell_type": "markdown",
   "metadata": {},
   "source": [
    "Za izdvojene instance ćemo udvostručiti vrednost ciljne promenljive."
   ]
  },
  {
   "cell_type": "code",
   "execution_count": 32,
   "metadata": {},
   "outputs": [
    {
     "data": {
      "text/plain": [
       "array([ 1.04939655,  0.55458031,  0.00206557, -0.66215934])"
      ]
     },
     "execution_count": 32,
     "metadata": {},
     "output_type": "execute_result"
    }
   ],
   "source": [
    "y_with_outliers = y.copy()\n",
    "y_with_outliers[outlier_indexes] *= 2\n",
    "x_with_outliers=x.copy()\n",
    "x[outlier_indexes]"
   ]
  },
  {
   "cell_type": "code",
   "execution_count": 36,
   "metadata": {},
   "outputs": [
    {
     "data": {
      "text/plain": [
       "<matplotlib.collections.PathCollection at 0x2218d674bc8>"
      ]
     },
     "execution_count": 36,
     "metadata": {},
     "output_type": "execute_result"
    },
    {
     "data": {
      "image/png": "[encoded data removed]",
      "text/plain": [
       "<Figure size 432x288 with 1 Axes>"
      ]
     },
     "metadata": {
      "needs_background": "light"
     },
     "output_type": "display_data"
    }
   ],
   "source": [
    "plt.scatter(x[outlier_indexes],y_with_outliers[outlier_indexes], c=\"r\")\n",
    "plt.scatter(x, y)\n"
   ]
  },
  {
   "cell_type": "markdown",
   "metadata": {},
   "source": [
    "Potom ćemo nad novim skupom odredi i grafički prikazati model linearne regresije."
   ]
  },
  {
   "cell_type": "code",
   "execution_count": 10,
   "metadata": {},
   "outputs": [],
   "source": [
    "model_with_outliers = linear_model.LinearRegression()\n",
    "model_with_outliers.fit(x.reshape(-1, 1), y_with_outliers)\n",
    "beta0_with_outliers, beta1_with_outliers = model_with_outliers.intercept_, model_with_outliers.coef_[0]"
   ]
  },
  {
   "cell_type": "code",
   "execution_count": 11,
   "metadata": {},
   "outputs": [
    {
     "data": {
      "image/png": "[encoded data removed]",
      "text/plain": [
       "<Figure size 432x288 with 1 Axes>"
      ]
     },
     "metadata": {
      "needs_background": "light"
     },
     "output_type": "display_data"
    }
   ],
   "source": [
    "plt.scatter(x, y)\n",
    "plt.plot(x, beta0+beta1*x, color = 'orange', label = 'without outliers')\n",
    "plt.plot(x, beta0_with_outliers+beta1_with_outliers*x, color = 'red', label = 'with outliers')\n",
    "plt.legend(loc = 'best')\n",
    "plt.show()"
   ]
  },
  {
   "cell_type": "markdown",
   "metadata": {},
   "source": [
    "Kao što možemo da vidimo, prisustvo odudarajućih podataka je uticalo na promenu koeficijenata modela. Veće vrednosti odudarajućih podataka bi još više uticale na ovu promenu. "
   ]
  },
  {
   "cell_type": "code",
   "execution_count": null,
   "metadata": {},
   "outputs": [],
   "source": []
  },
  {
   "cell_type": "markdown",
   "metadata": {},
   "source": [
    "Jedan od načina da se ispita postojanje odudarajućih podataka je iscrtavanje skupa vrednosti u formi grafika-kutije (eng. boxplot). Ovaj grafik koristi medijanu skupa vrednosti (Q2), donji (Q1) i gornji (Q3) kvartil i na osnovu njih izračunava dopustive donje i gornje vrednosti. Vrednosti koje prevazilaze ove opsege se mogu smatrati odudarajućim vrednostima. "
   ]
  },
  {
   "cell_type": "markdown",
   "metadata": {},
   "source": [
    "<img src='assets/boxplot.png'>"
   ]
  },
  {
   "cell_type": "code",
   "execution_count": null,
   "metadata": {},
   "outputs": [],
   "source": []
  },
  {
   "cell_type": "markdown",
   "metadata": {},
   "source": [
    "Za iscrtavanje grafika kutije, može se iskoristiti boxplot funkcija `matplotlib` biblioteke (ili istoimena funkcija `pandas` biblioteke)."
   ]
  },
  {
   "cell_type": "code",
   "execution_count": 12,
   "metadata": {},
   "outputs": [
    {
     "data": {
      "image/png": "[encoded data removed]",
      "text/plain": [
       "<Figure size 432x288 with 1 Axes>"
      ]
     },
     "metadata": {
      "needs_background": "light"
     },
     "output_type": "display_data"
    }
   ],
   "source": [
    "plt.boxplot(y_with_outliers)\n",
    "plt.show()"
   ]
  },
  {
   "cell_type": "markdown",
   "metadata": {},
   "source": [
    "Sa grafika možemo videti da se dve vrednosti u skupu smatraju odudarajućima."
   ]
  },
  {
   "cell_type": "code",
   "execution_count": null,
   "metadata": {},
   "outputs": [],
   "source": []
  },
  {
   "cell_type": "markdown",
   "metadata": {},
   "source": [
    "Dalje ćemo računski odrediti gornje i donje dopustive opsege za vrednosti ciljne promenljive. "
   ]
  },
  {
   "cell_type": "code",
   "execution_count": 39,
   "metadata": {},
   "outputs": [],
   "source": [
    "y_sorted = y_with_outliers.copy()\n",
    "y_sorted.sort()"
   ]
  },
  {
   "cell_type": "code",
   "execution_count": null,
   "metadata": {},
   "outputs": [],
   "source": []
  },
  {
   "cell_type": "markdown",
   "metadata": {},
   "source": [
    "Određujemo medijanu, donji i gornji kvartil:"
   ]
  },
  {
   "cell_type": "code",
   "execution_count": 40,
   "metadata": {},
   "outputs": [
    {
     "name": "stdout",
     "output_type": "stream",
     "text": [
      "Q2:  24 3.188772317273629\n"
     ]
    }
   ],
   "source": [
    "# medijana \n",
    "Q2_index = int(N/2)\n",
    "Q2 = y_sorted[Q2_index]\n",
    "print('Q2: ', Q2_index, Q2)"
   ]
  },
  {
   "cell_type": "code",
   "execution_count": 41,
   "metadata": {},
   "outputs": [
    {
     "name": "stdout",
     "output_type": "stream",
     "text": [
      "Q1:  12 1.6747316783038404\n"
     ]
    }
   ],
   "source": [
    "# donji kvartil\n",
    "Q1_index = int(N/4)\n",
    "Q1 = y_sorted[Q1_index]\n",
    "print('Q1: ', Q1_index, Q1)"
   ]
  },
  {
   "cell_type": "code",
   "execution_count": 42,
   "metadata": {},
   "outputs": [
    {
     "name": "stdout",
     "output_type": "stream",
     "text": [
      "Q3:  36 4.81275276421185\n"
     ]
    }
   ],
   "source": [
    "# gornji kvartil\n",
    "Q3_index = int(3*N/4)\n",
    "Q3 = y_sorted[Q3_index]\n",
    "print('Q3: ', Q3_index, Q3)"
   ]
  },
  {
   "cell_type": "markdown",
   "metadata": {},
   "source": [
    "Zatim određujemo interkvartilni opseg:"
   ]
  },
  {
   "cell_type": "code",
   "execution_count": 43,
   "metadata": {},
   "outputs": [
    {
     "name": "stdout",
     "output_type": "stream",
     "text": [
      "IQR:  3.1380210859080098\n"
     ]
    }
   ],
   "source": [
    "IQR = Q3 - Q1 \n",
    "print('IQR: ', IQR)"
   ]
  },
  {
   "cell_type": "markdown",
   "metadata": {},
   "source": [
    "I na kraju, dopistive donje i gornje granice:"
   ]
  },
  {
   "cell_type": "code",
   "execution_count": 44,
   "metadata": {},
   "outputs": [
    {
     "name": "stdout",
     "output_type": "stream",
     "text": [
      "Donja granica:  -3.0322999505581745\n"
     ]
    }
   ],
   "source": [
    "lower_limit = Q1 - 1.5*IQR\n",
    "print('Donja granica: ', lower_limit)"
   ]
  },
  {
   "cell_type": "code",
   "execution_count": 45,
   "metadata": {},
   "outputs": [
    {
     "name": "stdout",
     "output_type": "stream",
     "text": [
      "Gornja granica:  9.519784393073865\n"
     ]
    }
   ],
   "source": [
    "upper_limit = Q3 + 1.5*IQR\n",
    "print('Gornja granica: ', upper_limit)"
   ]
  },
  {
   "cell_type": "code",
   "execution_count": null,
   "metadata": {},
   "outputs": [],
   "source": []
  },
  {
   "cell_type": "markdown",
   "metadata": {},
   "source": [
    "Ostalo je još da izdvojimo vrednosti koje smatramo odudarajućim podacima, kao i njihove indekse zarad daljeg ispitivanja i potencijalnog brisanja iz skupa."
   ]
  },
  {
   "cell_type": "code",
   "execution_count": null,
   "metadata": {},
   "outputs": [],
   "source": []
  },
  {
   "cell_type": "code",
   "execution_count": 46,
   "metadata": {},
   "outputs": [],
   "source": [
    "outliers_below_lower_limit = y_with_outliers[y_with_outliers < lower_limit]"
   ]
  },
  {
   "cell_type": "code",
   "execution_count": 47,
   "metadata": {},
   "outputs": [
    {
     "data": {
      "text/plain": [
       "array([], dtype=float64)"
      ]
     },
     "execution_count": 47,
     "metadata": {},
     "output_type": "execute_result"
    }
   ],
   "source": [
    "outliers_below_lower_limit"
   ]
  },
  {
   "cell_type": "code",
   "execution_count": null,
   "metadata": {},
   "outputs": [],
   "source": []
  },
  {
   "cell_type": "code",
   "execution_count": 48,
   "metadata": {},
   "outputs": [],
   "source": [
    "outliers_above_upper_limit = y_with_outliers[y_with_outliers > upper_limit]"
   ]
  },
  {
   "cell_type": "code",
   "execution_count": 53,
   "metadata": {},
   "outputs": [
    {
     "data": {
      "text/plain": [
       "array([11.66763937,  9.75513709])"
      ]
     },
     "execution_count": 53,
     "metadata": {},
     "output_type": "execute_result"
    }
   ],
   "source": [
    "outliers_above_upper_limit."
   ]
  },
  {
   "cell_type": "code",
   "execution_count": 50,
   "metadata": {},
   "outputs": [],
   "source": [
    "outliers_above_upper_limit_indexes = np.where(y_with_outliers > upper_limit)# the function \"np.where\" was used with a mask and returned indexes"
   ]
  },
  {
   "cell_type": "code",
   "execution_count": 51,
   "metadata": {},
   "outputs": [
    {
     "data": {
      "text/plain": [
       "(array([28, 47], dtype=int64),)"
      ]
     },
     "execution_count": 51,
     "metadata": {},
     "output_type": "execute_result"
    }
   ],
   "source": [
    "outliers_above_upper_limit_indexes"
   ]
  },
  {
   "cell_type": "code",
   "execution_count": null,
   "metadata": {},
   "outputs": [],
   "source": []
  },
  {
   "cell_type": "code",
   "execution_count": 26,
   "metadata": {},
   "outputs": [],
   "source": [
    "all_outliers = np.concatenate((outliers_below_lower_limit, outliers_above_upper_limit), axis = 0)"
   ]
  },
  {
   "cell_type": "code",
   "execution_count": 27,
   "metadata": {},
   "outputs": [
    {
     "name": "stdout",
     "output_type": "stream",
     "text": [
      "All outliers:  [11.66763937  9.75513709]\n"
     ]
    }
   ],
   "source": [
    "print('All outliers: ', all_outliers )"
   ]
  },
  {
   "cell_type": "code",
   "execution_count": null,
   "metadata": {},
   "outputs": [],
   "source": []
  },
  {
   "cell_type": "markdown",
   "metadata": {},
   "source": [
    "Za pregled još nekih interesantnih tehnika izdvajanja odudarajućih podataka preporučujemo [ovaj blog](https://towardsdatascience.com/5-ways-to-detect-outliers-that-every-data-scientist-should-know-python-code-70a54335a623)."
   ]
  },
  {
   "cell_type": "code",
   "execution_count": null,
   "metadata": {},
   "outputs": [],
   "source": []
  }
 ],
 "metadata": {
  "kernelspec": {
   "display_name": "Python 3",
   "language": "python",
   "name": "python3"
  },
  "language_info": {
   "codemirror_mode": {
    "name": "ipython",
    "version": 3
   },
   "file_extension": ".py",
   "mimetype": "text/x-python",
   "name": "python",
   "nbconvert_exporter": "python",
   "pygments_lexer": "ipython3",
   "version": "3.8.8"
  }
 },
 "nbformat": 4,
 "nbformat_minor": 4
}
