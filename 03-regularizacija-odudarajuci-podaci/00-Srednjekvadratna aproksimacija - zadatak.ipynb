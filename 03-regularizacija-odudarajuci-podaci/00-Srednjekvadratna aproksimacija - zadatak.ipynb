{
 "cells": [
  {
   "cell_type": "code",
   "execution_count": 1,
   "metadata": {},
   "outputs": [],
   "source": [
    "import numpy as np\n",
    "import numpy.linalg as LA"
   ]
  },
  {
   "cell_type": "code",
   "execution_count": 2,
   "metadata": {},
   "outputs": [
    {
     "data": {
      "text/plain": [
       "array([[ 1,  2,  3],\n",
       "       [ 2,  4,  6],\n",
       "       [ 3,  7, 11]])"
      ]
     },
     "execution_count": 2,
     "metadata": {},
     "output_type": "execute_result"
    }
   ],
   "source": [
    "A = np.array([[1,2,3],[2,4,6],[3,7,11]])\n",
    "A"
   ]
  },
  {
   "cell_type": "code",
   "execution_count": 3,
   "metadata": {},
   "outputs": [
    {
     "data": {
      "text/plain": [
       "2.123419348145295e+16"
      ]
     },
     "execution_count": 3,
     "metadata": {},
     "output_type": "execute_result"
    }
   ],
   "source": [
    "LA.cond(A)"
   ]
  },
  {
   "cell_type": "code",
   "execution_count": null,
   "metadata": {},
   "outputs": [],
   "source": []
  },
  {
   "cell_type": "markdown",
   "metadata": {},
   "source": [
    "Potrebno je odrediti centar $(p, q)$ i poluprečnik kruga $r$ koji u srednjekvadratnom smislu najbolje aproksimira skup tačaka: (0.7, 4), (7.5, 1.3), (3.3, 4.7), (6.4, -1.1), (5.6, 4.0), (4.4, -3), (0.3, -2.5) i (-1.1, 1.3). Kolika greška se pravi ovom aproksimacijom?"
   ]
  },
  {
   "cell_type": "code",
   "execution_count": 4,
   "metadata": {},
   "outputs": [],
   "source": [
    "import numpy as np\n",
    "from matplotlib import pyplot as plt"
   ]
  },
  {
   "cell_type": "markdown",
   "metadata": {},
   "source": [
    "Skup tačaka kojima raspolažemo možemo sačuvati na nivou liste. "
   ]
  },
  {
   "cell_type": "code",
   "execution_count": 5,
   "metadata": {},
   "outputs": [],
   "source": [
    "points = [(0.7, 4), (7.5, 1.3), (3.3, 4.7), (6.4, -1.1), (5.6, 4.0), (4.4, -3), (0.3, -2.5), (-1.1, 1.3)]"
   ]
  },
  {
   "cell_type": "code",
   "execution_count": 6,
   "metadata": {},
   "outputs": [],
   "source": [
    "N = len(points)"
   ]
  },
  {
   "cell_type": "code",
   "execution_count": 7,
   "metadata": {},
   "outputs": [
    {
     "data": {
      "text/plain": [
       "8"
      ]
     },
     "execution_count": 7,
     "metadata": {},
     "output_type": "execute_result"
    }
   ],
   "source": [
    "N"
   ]
  },
  {
   "cell_type": "markdown",
   "metadata": {},
   "source": [
    "Dalje, možemo izdvojiti koordinate tačaka."
   ]
  },
  {
   "cell_type": "code",
   "execution_count": 8,
   "metadata": {},
   "outputs": [
    {
     "data": {
      "image/png": "[encoded data removed]",
      "text/plain": [
       "<Figure size 432x288 with 1 Axes>"
      ]
     },
     "metadata": {
      "needs_background": "light"
     },
     "output_type": "display_data"
    }
   ],
   "source": [
    "x = np.array([point[0] for point in points])\n",
    "y = np.array([point[1] for point in points])\n",
    "plt.scatter(x,y);"
   ]
  },
  {
   "cell_type": "code",
   "execution_count": null,
   "metadata": {},
   "outputs": [],
   "source": []
  },
  {
   "cell_type": "markdown",
   "metadata": {},
   "source": [
    "Jednačina kruga $(x-p)^2 + (y-q)^2 = r^2$ se može zapisati u obliku $(p^2 + q^2 - r^2) -2xp - 2yq = -x^2 -y^2$, tj. $c - 2xp - 2yq = -x^2 -y^2$ uz $c=p^2 + q^2 - r^2$ tako da je zavisnost između nepoznatih $c$, $p$, i $q$ linearna. "
   ]
  },
  {
   "cell_type": "markdown",
   "metadata": {},
   "source": [
    "Sistem po nepoznatima $c$, $p$ i $q$ se može rešiti bibiliotečkom funkcijom `lstsq`."
   ]
  },
  {
   "cell_type": "code",
   "execution_count": 10,
   "metadata": {},
   "outputs": [],
   "source": [
    "A = np.vstack((np.ones(N), -2*x, -2*y)).T\n",
    "b = -x**2 -y**2"
   ]
  },
  {
   "cell_type": "code",
   "execution_count": 11,
   "metadata": {},
   "outputs": [
    {
     "data": {
      "text/plain": [
       "array([[  1. ,  -1.4,  -8. ],\n",
       "       [  1. , -15. ,  -2.6],\n",
       "       [  1. ,  -6.6,  -9.4],\n",
       "       [  1. , -12.8,   2.2],\n",
       "       [  1. , -11.2,  -8. ],\n",
       "       [  1. ,  -8.8,   6. ],\n",
       "       [  1. ,  -0.6,   5. ],\n",
       "       [  1. ,   2.2,  -2.6]])"
      ]
     },
     "execution_count": 11,
     "metadata": {},
     "output_type": "execute_result"
    }
   ],
   "source": [
    "A"
   ]
  },
  {
   "cell_type": "code",
   "execution_count": 12,
   "metadata": {},
   "outputs": [],
   "source": [
    "coefs, rss, _, _ = np.linalg.lstsq(A, b, rcond=None)"
   ]
  },
  {
   "cell_type": "code",
   "execution_count": 13,
   "metadata": {},
   "outputs": [],
   "source": [
    "c, p, q = coefs"
   ]
  },
  {
   "cell_type": "code",
   "execution_count": null,
   "metadata": {},
   "outputs": [],
   "source": []
  },
  {
   "cell_type": "markdown",
   "metadata": {},
   "source": [
    "Dalje izvodimo zaključke: "
   ]
  },
  {
   "cell_type": "code",
   "execution_count": 14,
   "metadata": {},
   "outputs": [
    {
     "name": "stdout",
     "output_type": "stream",
     "text": [
      "Centar kruga je: ( 3.060303565727351 , 0.7436073210423235 )\n"
     ]
    }
   ],
   "source": [
    "print('Centar kruga je: (', p , ',', q, ')')"
   ]
  },
  {
   "cell_type": "code",
   "execution_count": 15,
   "metadata": {},
   "outputs": [],
   "source": [
    "r = np.sqrt(p**2 + q**2 -c)"
   ]
  },
  {
   "cell_type": "code",
   "execution_count": 16,
   "metadata": {},
   "outputs": [
    {
     "name": "stdout",
     "output_type": "stream",
     "text": [
      "Poluprecnik kruga je:  4.109137036074779\n"
     ]
    }
   ],
   "source": [
    "print('Poluprecnik kruga je: ', r)"
   ]
  },
  {
   "cell_type": "code",
   "execution_count": 17,
   "metadata": {},
   "outputs": [
    {
     "data": {
      "text/plain": [
       "array([20.45343751])"
      ]
     },
     "execution_count": 17,
     "metadata": {},
     "output_type": "execute_result"
    }
   ],
   "source": [
    "rss"
   ]
  },
  {
   "cell_type": "code",
   "execution_count": 18,
   "metadata": {},
   "outputs": [
    {
     "name": "stdout",
     "output_type": "stream",
     "text": [
      "Srednjekvadratna greska koja se pravi aproksimacijom je:  2.556679688515996\n"
     ]
    }
   ],
   "source": [
    "print('Srednjekvadratna greska koja se pravi aproksimacijom je: ', rss[0]/N) # sto smo delili"
   ]
  },
  {
   "cell_type": "code",
   "execution_count": null,
   "metadata": {},
   "outputs": [],
   "source": []
  },
  {
   "cell_type": "markdown",
   "metadata": {},
   "source": [
    "Tačke i dobijeni krug možemo grafički prikazati."
   ]
  },
  {
   "cell_type": "code",
   "execution_count": 19,
   "metadata": {},
   "outputs": [
    {
     "data": {
      "image/png": "[encoded data removed]",
      "text/plain": [
       "<Figure size 432x288 with 1 Axes>"
      ]
     },
     "metadata": {
      "needs_background": "light"
     },
     "output_type": "display_data"
    }
   ],
   "source": [
    "circle = plt.Circle((p, q), r, color='blue', fill = False)\n",
    "\n",
    "fig, ax = plt.subplots()\n",
    "\n",
    "plt.xlim(-5,10)\n",
    "plt.ylim(-5,10)\n",
    "plt.grid(linestyle='-')\n",
    "ax.set_aspect(1)\n",
    "\n",
    "ax.add_artist(circle)\n",
    "\n",
    "plt.title('Krug')\n",
    "\n",
    "plt.scatter(x, y, color = 'red')\n",
    "\n",
    "plt.show()"
   ]
  },
  {
   "cell_type": "markdown",
   "metadata": {},
   "source": [
    "Za dalji uvid u funkcije za crtanje možete ispratiti blog [Matplotlib artists](https://matplotlib.org/stable/gallery/shapes_and_collections/artist_reference.html)."
   ]
  },
  {
   "cell_type": "code",
   "execution_count": null,
   "metadata": {},
   "outputs": [],
   "source": []
  }
 ],
 "metadata": {
  "kernelspec": {
   "display_name": "Python 3",
   "language": "python",
   "name": "python3"
  },
  "language_info": {
   "codemirror_mode": {
    "name": "ipython",
    "version": 3
   },
   "file_extension": ".py",
   "mimetype": "text/x-python",
   "name": "python",
   "nbconvert_exporter": "python",
   "pygments_lexer": "ipython3",
   "version": "3.8.8"
  }
 },
 "nbformat": 4,
 "nbformat_minor": 4
}
